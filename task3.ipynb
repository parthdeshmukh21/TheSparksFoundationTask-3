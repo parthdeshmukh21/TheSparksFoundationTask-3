{
 "cells": [
  {
   "cell_type": "markdown",
   "metadata": {},
   "source": [
    "# Task - 4 Exploratory Data Analysis - Retail"
   ]
  },
  {
   "cell_type": "markdown",
   "metadata": {},
   "source": [
    "Importing Dependencies"
   ]
  },
  {
   "cell_type": "code",
   "execution_count": null,
   "metadata": {},
   "outputs": [],
   "source": [
    "import pandas as pd\n",
    "import numpy as np\n",
    "import matplotlib.pyplot as plt\n",
    "import seaborn as sns\n",
    "import plotly.express as px"
   ]
  },
  {
   "cell_type": "markdown",
   "metadata": {},
   "source": [
    "Importing the dataset"
   ]
  },
  {
   "cell_type": "code",
   "execution_count": null,
   "metadata": {},
   "outputs": [],
   "source": [
    "dataset = pd.read_csv(\"SampleSuperstore.csv\")\n",
    "dataset.head()"
   ]
  },
  {
   "cell_type": "code",
   "execution_count": null,
   "metadata": {},
   "outputs": [],
   "source": [
    "sns.heatmap(dataset.isnull(), cbar = False, cmap = 'viridis')"
   ]
  },
  {
   "cell_type": "markdown",
   "metadata": {},
   "source": [
    "From the above heatmap it is clear that the dataset does not contain null values"
   ]
  },
  {
   "cell_type": "markdown",
   "metadata": {},
   "source": [
    "# Exploratory Data Analysis (EDA)"
   ]
  },
  {
   "cell_type": "markdown",
   "metadata": {},
   "source": [
    "# Correlation Heatmap \n"
   ]
  },
  {
   "cell_type": "code",
   "execution_count": null,
   "metadata": {},
   "outputs": [],
   "source": [
    "sns.heatmap(dataset.corr(), cmap = 'viridis', annot = True)"
   ]
  },
  {
   "cell_type": "markdown",
   "metadata": {},
   "source": [
    "# Sales vs Profit "
   ]
  },
  {
   "cell_type": "code",
   "execution_count": null,
   "metadata": {},
   "outputs": [],
   "source": [
    "plt.figure(figsize = (15, 6))\n",
    "sns.kdeplot(dataset['Sales'], color = 'Teal', label = 'Sales', shade = True, bw = 25)\n",
    "sns.kdeplot(dataset['Profit'], color = 'Cornflowerblue', label = 'Profit', shade = True, bw = 25)\n",
    "plt.xlim([0, 13000])\n",
    "plt.ylim([0, 0.00007])\n",
    "plt.ylabel('Density')\n",
    "plt.xlabel('Monetary Value in USD$')\n",
    "plt.title('Sales vs Profit', fontsize = 20)\n",
    "plt.legend(loc = 'upper right', frameon = False) \n",
    "plt.show()"
   ]
  },
  {
   "cell_type": "markdown",
   "metadata": {},
   "source": [
    "# Count on each Feature"
   ]
  },
  {
   "cell_type": "code",
   "execution_count": null,
   "metadata": {},
   "outputs": [],
   "source": [
    "fig, axs = plt.subplots(nrows = 2, ncols = 2, figsize=(15, 6))\n",
    "sns.countplot(dataset['Category'], ax = axs[0][0], palette = 'PuBu')\n",
    "sns.countplot(dataset['Segment'], ax = axs[0][1], palette = 'PuBu')\n",
    "sns.countplot(dataset['Ship Mode'], ax = axs[1][0], palette = 'PuBu')\n",
    "sns.countplot(dataset['Region'], ax = axs[1][1], palette = 'PuBu')\n",
    "axs[0][0].set_title('Category', fontsize = 20)\n",
    "axs[0][1].set_title('Segment', fontsize = 20)\n",
    "axs[1][0].set_title('Ship Mode', fontsize = 20)\n",
    "axs[1][1].set_title('Region', fontsize = 20)\n",
    "plt.tight_layout()"
   ]
  },
  {
   "cell_type": "markdown",
   "metadata": {},
   "source": [
    "# Total State-Wise Dealings"
   ]
  },
  {
   "cell_type": "code",
   "execution_count": null,
   "metadata": {},
   "outputs": [],
   "source": [
    "df_state_dealings = dataset.groupby('State')['Quantity'].count().sort_values(ascending = False).plot.bar(figsize = (15, 6), color = 'Cornflowerblue')\n",
    "plt.ylabel('Total Number of Dealings')\n",
    "plt.xlabel('American States')\n",
    "plt.title('Total State-Wise Dealings', fontsize = 20)\n",
    "plt.show()"
   ]
  },
  {
   "cell_type": "markdown",
   "metadata": {},
   "source": [
    "# Total State-Wise Sale"
   ]
  },
  {
   "cell_type": "code",
   "execution_count": null,
   "metadata": {},
   "outputs": [],
   "source": [
    "df_state_sales = dataset.groupby('State')['Sales'].sum().sort_values(ascending = False).plot.bar(figsize = (15, 6), color = 'Cornflowerblue')\n",
    "plt.ylabel('Total Sales in USD$')\n",
    "plt.xlabel('American States')\n",
    "plt.title('Total State-Wise Sales', fontsize = 20)\n",
    "plt.show()"
   ]
  },
  {
   "cell_type": "markdown",
   "metadata": {},
   "source": [
    "# Total State-wise Profit and Loss"
   ]
  },
  {
   "cell_type": "code",
   "execution_count": null,
   "metadata": {},
   "outputs": [],
   "source": [
    "df_state_profit = dataset.groupby('State')['Profit'].sum().sort_values(ascending = False).plot.bar(figsize = (15, 6), color = 'Cornflowerblue')\n",
    "plt.ylabel('Total Profit/Loss in USD$')\n",
    "plt.xlabel('American States')\n",
    "plt.title('Total State-Wise Profit/Loss', fontsize = 20)\n",
    "plt.show()"
   ]
  },
  {
   "cell_type": "markdown",
   "metadata": {},
   "source": [
    "# Profit of product categories and sub-categories for the chosen states"
   ]
  },
  {
   "cell_type": "code",
   "execution_count": null,
   "metadata": {},
   "outputs": [],
   "source": [
    "def state_data_viewer(states):\n",
    "    product_data = dataset.groupby(['State'])\n",
    "    for state in states:\n",
    "        data = product_data.get_group(state).groupby(['Category'])\n",
    "        fig, ax = plt.subplots(1, 3, figsize = (30, 5))\n",
    "        fig.suptitle(state, fontsize = 16)        \n",
    "        ax_index = 0\n",
    "        for category in ['Furniture', 'Office Supplies', 'Technology']:\n",
    "            category_data = data.get_group(category).groupby(['Sub-Category']).mean()\n",
    "            sns.barplot(x = category_data.Profit, y = category_data.index, \n",
    "                        ax = ax[ax_index], palette = 'Blues_d')\n",
    "            ax[ax_index].set_ylabel(category)\n",
    "            ax_index += 1\n",
    "states = ['California', 'Washington', 'Mississippi', 'Arizona', 'Illinois', 'Texas']\n",
    "state_data_viewer(states)"
   ]
  },
  {
   "cell_type": "code",
   "execution_count": null,
   "metadata": {},
   "outputs": [],
   "source": []
  }
 ],
 "metadata": {
  "kernelspec": {
   "display_name": "Python 3",
   "language": "python",
   "name": "python3"
  },
  "language_info": {
   "codemirror_mode": {
    "name": "ipython",
    "version": 3
   },
   "file_extension": ".py",
   "mimetype": "text/x-python",
   "name": "python",
   "nbconvert_exporter": "python",
   "pygments_lexer": "ipython3",
   "version": "3.8.3"
  },
  "metadata": {
   "interpreter": {
    "hash": "ac59ebe37160ed0dfa835113d9b8498d9f09ceb179beaac4002f036b9467c963"
   }
  }
 },
 "nbformat": 4,
 "nbformat_minor": 2
}
